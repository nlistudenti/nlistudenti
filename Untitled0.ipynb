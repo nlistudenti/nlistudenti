{
  "nbformat": 4,
  "nbformat_minor": 0,
  "metadata": {
    "colab": {
      "provenance": [],
      "authorship_tag": "ABX9TyNoGQMydC5aHT+5MWjd4iaz",
      "include_colab_link": true
    },
    "kernelspec": {
      "name": "python3",
      "display_name": "Python 3"
    },
    "language_info": {
      "name": "python"
    }
  },
  "cells": [
    {
      "cell_type": "markdown",
      "metadata": {
        "id": "view-in-github",
        "colab_type": "text"
      },
      "source": [
        "<a href=\"https://colab.research.google.com/github/nlistudenti/nlistudenti/blob/main/Untitled0.ipynb\" target=\"_parent\"><img src=\"https://colab.research.google.com/assets/colab-badge.svg\" alt=\"Open In Colab\"/></a>"
      ]
    },
    {
      "cell_type": "code",
      "source": [
        "\n",
        "height=5\n",
        "radius=10\n",
        "circumference=2*radius*3.14\n",
        "side_area=circumference*height\n",
        "\n",
        "print(side_area)"
      ],
      "metadata": {
        "colab": {
          "base_uri": "https://localhost:8080/"
        },
        "id": "PX33fdMuR_CP",
        "outputId": "b8f53aa7-a5bd-4ea8-b3d6-b0797f33545c"
      },
      "execution_count": null,
      "outputs": [
        {
          "output_type": "stream",
          "name": "stdout",
          "text": [
            "314.0\n"
          ]
        }
      ]
    },
    {
      "cell_type": "code",
      "execution_count": null,
      "metadata": {
        "colab": {
          "base_uri": "https://localhost:8080/"
        },
        "id": "ezUi2XCCR931",
        "outputId": "9ea0322f-22a0-4db7-ac01-f26aabf24a86"
      },
      "outputs": [
        {
          "output_type": "stream",
          "name": "stdout",
          "text": [
            "942.0\n"
          ]
        }
      ],
      "source": [
        "pi=3.14\n",
        "radius=10\n",
        "height=5\n",
        "base_area=pi*radius**2\n",
        "side_area=pi*2*radius*height\n",
        "total_area=2*base_area+side_area\n",
        "print(total_area)\n"
      ]
    },
    {
      "cell_type": "code",
      "source": [
        "text=\"python\"\n",
        "text[0]\n",
        "text[:3] #从0开始不包括3\n",
        "text[3:]\n"
      ],
      "metadata": {
        "colab": {
          "base_uri": "https://localhost:8080/",
          "height": 35
        },
        "id": "knN9K9FKXOnw",
        "outputId": "2cbd1198-31be-4629-a959-abfa9912cdce"
      },
      "execution_count": 15,
      "outputs": [
        {
          "output_type": "execute_result",
          "data": {
            "text/plain": [
              "'hon'"
            ],
            "application/vnd.google.colaboratory.intrinsic+json": {
              "type": "string"
            }
          },
          "metadata": {},
          "execution_count": 15
        }
      ]
    }
  ]
}